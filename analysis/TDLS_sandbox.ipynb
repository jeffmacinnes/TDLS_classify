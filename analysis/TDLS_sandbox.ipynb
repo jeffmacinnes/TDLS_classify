{
 "cells": [
  {
   "cell_type": "code",
   "execution_count": 3,
   "metadata": {},
   "outputs": [
    {
     "name": "stderr",
     "output_type": "stream",
     "text": [
      "/usr/local/lib/python3.6/site-packages/matplotlib/font_manager.py:273: UserWarning: Matplotlib is building the font cache using fc-list. This may take a moment.\n",
      "  warnings.warn('Matplotlib is building the font cache using fc-list. This may take a moment.')\n",
      "/usr/local/lib/python3.6/site-packages/matplotlib/font_manager.py:273: UserWarning: Matplotlib is building the font cache using fc-list. This may take a moment.\n",
      "  warnings.warn('Matplotlib is building the font cache using fc-list. This may take a moment.')\n"
     ]
    },
    {
     "name": "stdout",
     "output_type": "stream",
     "text": [
      "Populating the interactive namespace from numpy and matplotlib\n"
     ]
    }
   ],
   "source": [
    "from __future__ import division\n",
    "import os\n",
    "from os.path import join\n",
    "import numpy as np\n",
    "import pandas as pd\n",
    "\n",
    "%pylab inline"
   ]
  },
  {
   "cell_type": "code",
   "execution_count": 4,
   "metadata": {
    "collapsed": true
   },
   "outputs": [],
   "source": [
    "# paths to subject dir\n",
    "subj = '13034'\n",
    "dataDir = '../data'"
   ]
  },
  {
   "cell_type": "markdown",
   "metadata": {},
   "source": [
    "# Classification \n",
    "Classification analyses on one subject. This notebook walks through the steps for prepping the data, and setting up a classification.\n",
    "\n",
    "This experiment was a single run task with 48 trials. On each trial, subjects were presented with a stimulus in the form of either a **Word** or a **Picture** (24 stims from each modality).\n",
    "\n",
    "Stimuli represented either **Dwellings** or **Tools** (equally balanced across modalities). \n",
    "\n",
    "There were 8 unique stimuli. \n",
    "\n",
    "** Stimuli Breakdown:**\n",
    "\n",
    "* 24 Words\n",
    "    * 12 Dwellings\n",
    "        * 4 stims (as words), repeated 3x each\n",
    "    * 12 Tools \n",
    "        * 4 stims (as words), repeated 3x each\n",
    "* 24 Pics\n",
    "    * 12 Dwellings\n",
    "        * 4 stims (as pics), repeated 3x each\n",
    "    * 12 Tools\n",
    "        * 4 stims (as pics), repeated 3x each\n",
    "\n",
    "\n",
    "The analyses will focus on classifying between different combinations of these stimuli representations (e.g. classifying between words and pics)"
   ]
  },
  {
   "cell_type": "markdown",
   "metadata": {},
   "source": [
    "# Preprocessing\n",
    "\n",
    "---\n",
    "## Prepare the attributes\n",
    "Prepare a set of volume labels that can be used to slice the dataset up for different analyses.  "
   ]
  },
  {
   "cell_type": "code",
   "execution_count": 5,
   "metadata": {
    "scrolled": true
   },
   "outputs": [
    {
     "data": {
      "text/html": [
       "<div>\n",
       "<table border=\"1\" class=\"dataframe\">\n",
       "  <thead>\n",
       "    <tr style=\"text-align: right;\">\n",
       "      <th></th>\n",
       "      <th>TrialOnset</th>\n",
       "      <th>Modality</th>\n",
       "      <th>Category</th>\n",
       "      <th>Stimulus</th>\n",
       "    </tr>\n",
       "  </thead>\n",
       "  <tbody>\n",
       "    <tr>\n",
       "      <th>0</th>\n",
       "      <td>2000</td>\n",
       "      <td>Word</td>\n",
       "      <td>dwelling</td>\n",
       "      <td>castle</td>\n",
       "    </tr>\n",
       "    <tr>\n",
       "      <th>1</th>\n",
       "      <td>11995</td>\n",
       "      <td>Word</td>\n",
       "      <td>tool</td>\n",
       "      <td>saw</td>\n",
       "    </tr>\n",
       "    <tr>\n",
       "      <th>2</th>\n",
       "      <td>22007</td>\n",
       "      <td>Word</td>\n",
       "      <td>dwelling</td>\n",
       "      <td>house</td>\n",
       "    </tr>\n",
       "    <tr>\n",
       "      <th>3</th>\n",
       "      <td>32002</td>\n",
       "      <td>Word</td>\n",
       "      <td>dwelling</td>\n",
       "      <td>tent</td>\n",
       "    </tr>\n",
       "    <tr>\n",
       "      <th>4</th>\n",
       "      <td>41980</td>\n",
       "      <td>Word</td>\n",
       "      <td>tool</td>\n",
       "      <td>screwdriver</td>\n",
       "    </tr>\n",
       "  </tbody>\n",
       "</table>\n",
       "</div>"
      ],
      "text/plain": [
       "   TrialOnset Modality  Category     Stimulus\n",
       "0        2000     Word  dwelling       castle\n",
       "1       11995     Word      tool          saw\n",
       "2       22007     Word  dwelling        house\n",
       "3       32002     Word  dwelling         tent\n",
       "4       41980     Word      tool  screwdriver"
      ]
     },
     "execution_count": 5,
     "metadata": {},
     "output_type": "execute_result"
    }
   ],
   "source": [
    "# read trialOnsets file\n",
    "trialOnsets = pd.read_table(join(dataDir, subj, (subj + '_trialOnsets.txt')))\n",
    "trialOnsets.head()"
   ]
  },
  {
   "cell_type": "code",
   "execution_count": 6,
   "metadata": {},
   "outputs": [
    {
     "data": {
      "text/plain": [
       "(48, 3)"
      ]
     },
     "execution_count": 6,
     "metadata": {},
     "output_type": "execute_result"
    }
   ],
   "source": [
    "# drop the trial onset times, as we don't need that\n",
    "trials = trialOnsets.drop('TrialOnset', axis=1)\n",
    "trials.shape"
   ]
  },
  {
   "cell_type": "markdown",
   "metadata": {},
   "source": [
    "### Make additional columns for category by word/pic and stim by word/pic"
   ]
  },
  {
   "cell_type": "code",
   "execution_count": 7,
   "metadata": {
    "collapsed": true
   },
   "outputs": [],
   "source": [
    "def catByWord(row):\n",
    "    if row['Modality'] == 'Word':\n",
    "        label = row['Category'] + 'Word'\n",
    "    else:\n",
    "        label = 'n'\n",
    "    return label\n",
    "\n",
    "def catByPic(row):\n",
    "    if row['Modality'] == 'Picture':\n",
    "        label = row['Category'] + 'Pic'\n",
    "    else:\n",
    "        label = 'n'\n",
    "    return label\n",
    "\n",
    "def stimByWord(row):\n",
    "    if row['Modality'] == 'Word':\n",
    "        label = row['Stimulus'] + 'Word'\n",
    "    else:\n",
    "        label = 'n'\n",
    "    return label\n",
    "\n",
    "def stimByPic(row):\n",
    "    if row['Modality'] == 'Picture':\n",
    "        label = row['Stimulus'] + 'Pic'\n",
    "    else:\n",
    "        label = 'n'\n",
    "    return label"
   ]
  },
  {
   "cell_type": "code",
   "execution_count": 8,
   "metadata": {
    "collapsed": true
   },
   "outputs": [],
   "source": [
    "trials['categoryWords'] = trials.apply(catByWord, axis=1)\n",
    "trials['categoryPics'] = trials.apply(catByPic, axis=1)\n",
    "trials['stimulusWords'] = trials.apply(stimByWord, axis=1)\n",
    "trials['stimulusPics'] = trials.apply(stimByPic, axis=1)"
   ]
  },
  {
   "cell_type": "markdown",
   "metadata": {},
   "source": [
    "Here is the table that contains all of our sample labels"
   ]
  },
  {
   "cell_type": "code",
   "execution_count": 9,
   "metadata": {},
   "outputs": [
    {
     "data": {
      "text/html": [
       "<div>\n",
       "<table border=\"1\" class=\"dataframe\">\n",
       "  <thead>\n",
       "    <tr style=\"text-align: right;\">\n",
       "      <th></th>\n",
       "      <th>Modality</th>\n",
       "      <th>Category</th>\n",
       "      <th>Stimulus</th>\n",
       "      <th>categoryWords</th>\n",
       "      <th>categoryPics</th>\n",
       "      <th>stimulusWords</th>\n",
       "      <th>stimulusPics</th>\n",
       "    </tr>\n",
       "  </thead>\n",
       "  <tbody>\n",
       "    <tr>\n",
       "      <th>0</th>\n",
       "      <td>Word</td>\n",
       "      <td>dwelling</td>\n",
       "      <td>castle</td>\n",
       "      <td>dwellingWord</td>\n",
       "      <td>n</td>\n",
       "      <td>castleWord</td>\n",
       "      <td>n</td>\n",
       "    </tr>\n",
       "    <tr>\n",
       "      <th>1</th>\n",
       "      <td>Word</td>\n",
       "      <td>tool</td>\n",
       "      <td>saw</td>\n",
       "      <td>toolWord</td>\n",
       "      <td>n</td>\n",
       "      <td>sawWord</td>\n",
       "      <td>n</td>\n",
       "    </tr>\n",
       "    <tr>\n",
       "      <th>2</th>\n",
       "      <td>Word</td>\n",
       "      <td>dwelling</td>\n",
       "      <td>house</td>\n",
       "      <td>dwellingWord</td>\n",
       "      <td>n</td>\n",
       "      <td>houseWord</td>\n",
       "      <td>n</td>\n",
       "    </tr>\n",
       "    <tr>\n",
       "      <th>3</th>\n",
       "      <td>Word</td>\n",
       "      <td>dwelling</td>\n",
       "      <td>tent</td>\n",
       "      <td>dwellingWord</td>\n",
       "      <td>n</td>\n",
       "      <td>tentWord</td>\n",
       "      <td>n</td>\n",
       "    </tr>\n",
       "    <tr>\n",
       "      <th>4</th>\n",
       "      <td>Word</td>\n",
       "      <td>tool</td>\n",
       "      <td>screwdriver</td>\n",
       "      <td>toolWord</td>\n",
       "      <td>n</td>\n",
       "      <td>screwdriverWord</td>\n",
       "      <td>n</td>\n",
       "    </tr>\n",
       "  </tbody>\n",
       "</table>\n",
       "</div>"
      ],
      "text/plain": [
       "  Modality  Category     Stimulus categoryWords categoryPics    stimulusWords  \\\n",
       "0     Word  dwelling       castle  dwellingWord            n       castleWord   \n",
       "1     Word      tool          saw      toolWord            n          sawWord   \n",
       "2     Word  dwelling        house  dwellingWord            n        houseWord   \n",
       "3     Word  dwelling         tent  dwellingWord            n         tentWord   \n",
       "4     Word      tool  screwdriver      toolWord            n  screwdriverWord   \n",
       "\n",
       "  stimulusPics  \n",
       "0            n  \n",
       "1            n  \n",
       "2            n  \n",
       "3            n  \n",
       "4            n  "
      ]
     },
     "execution_count": 9,
     "metadata": {},
     "output_type": "execute_result"
    }
   ],
   "source": [
    "trials.head()"
   ]
  },
  {
   "cell_type": "markdown",
   "metadata": {},
   "source": [
    "## Load the subject's brain data\n",
    "\n",
    "For this analysis, the functional data has been preprocessed with the following steps:\n",
    "\n",
    "* motion correction\n",
    "* non-brain removal with BET (along with func mask creation)\n",
    "* 4mm smoothing\n",
    "* highpass filtered (Gaussian least-squares straight-line fitting, sigma=40.0s)\n",
    "\n",
    "In addition, we ran first level GLMs to extract SPMs that represented single trial parameter estimates. For each trial, a model was fit with two regressors: 1) convolved regressor representing THAT trial, and 2) convolved regressor representing ALL OTHER trials. The unique parameter estimate map for each trial was extracted and merged across time to produce a 4D file. There are 48 'timepts' in this 4D file, each representing the whole brain parameter map for a single trial\n",
    "\n",
    "The 4D single-trial parameter maps will be used as the input dataset for our classification"
   ]
  },
  {
   "cell_type": "code",
   "execution_count": 10,
   "metadata": {
    "collapsed": true
   },
   "outputs": [],
   "source": [
    "# import tools to read nifti data\n",
    "import nilearn as nl\n",
    "import nibabel as nib"
   ]
  },
  {
   "cell_type": "code",
   "execution_count": 11,
   "metadata": {
    "collapsed": true
   },
   "outputs": [],
   "source": [
    "subj_dataDir = join(dataDir, subj)\n",
    "bold_file = join(subj_dataDir, 'singleTrialGLM/singleTrialPEs.nii.gz')\n",
    "mask_file = join(subj_dataDir, 'masks/TDSL2_brain_mask.nii.gz')"
   ]
  },
  {
   "cell_type": "code",
   "execution_count": 12,
   "metadata": {
    "collapsed": true
   },
   "outputs": [],
   "source": [
    "# create a Nilearn Masker...this will convert the dataset to a 2D array\n",
    "# as well as standardize the voxel timeseries\n",
    "from nilearn.input_data import NiftiMasker"
   ]
  },
  {
   "cell_type": "code",
   "execution_count": 13,
   "metadata": {},
   "outputs": [
    {
     "data": {
      "text/plain": [
       "(48, 25182)"
      ]
     },
     "execution_count": 13,
     "metadata": {},
     "output_type": "execute_result"
    }
   ],
   "source": [
    "masker = NiftiMasker(mask_img=mask_file, standardize=True)\n",
    "fmri_masked = masker.fit_transform(bold_file)\n",
    "fmri_masked.shape"
   ]
  },
  {
   "cell_type": "markdown",
   "metadata": {},
   "source": [
    "# Start Classifying"
   ]
  },
  {
   "cell_type": "code",
   "execution_count": 42,
   "metadata": {},
   "outputs": [],
   "source": [
    "from sklearn.model_selection import StratifiedKFold\n",
    "from sklearn.model_selection import cross_val_score"
   ]
  },
  {
   "cell_type": "markdown",
   "metadata": {},
   "source": [
    "### Start simple - whole brain SVM on Words vs Pics\n",
    "See how well an SVM can discrimate between WORD trials and PIC trials using the entire brain volume as input"
   ]
  },
  {
   "cell_type": "code",
   "execution_count": 38,
   "metadata": {},
   "outputs": [],
   "source": [
    "# load decoder\n",
    "from sklearn.svm import SVC"
   ]
  },
  {
   "cell_type": "code",
   "execution_count": 58,
   "metadata": {
    "collapsed": true
   },
   "outputs": [],
   "source": [
    "# test how well stratified K-fold does the trick\n",
    "skf = StratifiedKFold(n_splits=5, random_state=1)"
   ]
  },
  {
   "cell_type": "code",
   "execution_count": 62,
   "metadata": {},
   "outputs": [
    {
     "name": "stdout",
     "output_type": "stream",
     "text": [
      "0.62\n"
     ]
    }
   ],
   "source": [
    "model = SVC(kernel='linear')\n",
    "X = fmri_masked\n",
    "y = trials['Modality']\n",
    "\n",
    "# run leave one out cross validation on this model\n",
    "cv_scores = cross_val_score(model, X, y, cv=skf, n_jobs=4)\n",
    "print(cv_scores.mean())"
   ]
  },
  {
   "cell_type": "code",
   "execution_count": 68,
   "metadata": {
    "collapsed": true
   },
   "outputs": [],
   "source": [
    "from sklearn.model_selection import train_test_split"
   ]
  },
  {
   "cell_type": "code",
   "execution_count": 70,
   "metadata": {},
   "outputs": [],
   "source": [
    "Xtrain, Xtest, ytrain, ytest = train_test_split(X, y, test_size=.25, random_state=1)"
   ]
  },
  {
   "cell_type": "code",
   "execution_count": 71,
   "metadata": {},
   "outputs": [
    {
     "data": {
      "text/plain": [
       "SVC(C=1.0, cache_size=200, class_weight=None, coef0=0.0,\n",
       "  decision_function_shape='ovr', degree=3, gamma='auto', kernel='linear',\n",
       "  max_iter=-1, probability=False, random_state=None, shrinking=True,\n",
       "  tol=0.001, verbose=False)"
      ]
     },
     "execution_count": 71,
     "metadata": {},
     "output_type": "execute_result"
    }
   ],
   "source": [
    "model.fit(Xtrain, ytrain)"
   ]
  },
  {
   "cell_type": "code",
   "execution_count": 76,
   "metadata": {},
   "outputs": [
    {
     "data": {
      "text/plain": [
       "array(['Word', 'Word', 'Word', 'Word', 'Picture', 'Word', 'Word',\n",
       "       'Picture', 'Word', 'Word', 'Word', 'Word'], dtype=object)"
      ]
     },
     "execution_count": 76,
     "metadata": {},
     "output_type": "execute_result"
    }
   ],
   "source": [
    "model.predict(Xtest)"
   ]
  },
  {
   "cell_type": "code",
   "execution_count": 79,
   "metadata": {},
   "outputs": [
    {
     "name": "stdout",
     "output_type": "stream",
     "text": [
      "(1, 25182)\n"
     ]
    }
   ],
   "source": [
    "coef = model.coef_\n",
    "print(coef.shape)"
   ]
  },
  {
   "cell_type": "code",
   "execution_count": 80,
   "metadata": {
    "collapsed": true
   },
   "outputs": [],
   "source": [
    "coef_img = masker.inverse_transform(coef)"
   ]
  },
  {
   "cell_type": "code",
   "execution_count": 82,
   "metadata": {
    "collapsed": true
   },
   "outputs": [],
   "source": [
    "from nilearn import plotting"
   ]
  },
  {
   "cell_type": "code",
   "execution_count": 83,
   "metadata": {},
   "outputs": [
    {
     "data": {
      "text/plain": [
       "<nilearn.plotting.displays.OrthoProjector at 0x118eaef98>"
      ]
     },
     "execution_count": 83,
     "metadata": {},
     "output_type": "execute_result"
    },
    {
     "data": {
      "image/png": "[encoded data removed]",
      "text/plain": [
       "<matplotlib.figure.Figure at 0x110a2a128>"
      ]
     },
     "metadata": {},
     "output_type": "display_data"
    }
   ],
   "source": [
    "plotting.plot_glass_brain(coef_img, black_bg=True)"
   ]
  },
  {
   "cell_type": "code",
   "execution_count": 84,
   "metadata": {
    "collapsed": true
   },
   "outputs": [],
   "source": [
    "from nilearn.plotting import plot_stat_map, show"
   ]
  },
  {
   "cell_type": "code",
   "execution_count": 89,
   "metadata": {},
   "outputs": [
    {
     "data": {
      "text/plain": [
       "<nilearn.plotting.displays.YXSlicer at 0x114575780>"
      ]
     },
     "execution_count": 89,
     "metadata": {},
     "output_type": "execute_result"
    },
    {
     "data": {
      "image/png": "[encoded data removed]",
      "text/plain": [
       "<matplotlib.figure.Figure at 0x11450ed30>"
      ]
     },
     "metadata": {},
     "output_type": "display_data"
    }
   ],
   "source": [
    "plot_stat_map(coef_img, bg_img=join(dataDir, subj, 'preprocessed.feat/example_func.nii.gz'), display_mode='yx')"
   ]
  }
 ],
 "metadata": {
  "kernelspec": {
   "display_name": "Python 3",
   "language": "python",
   "name": "python3"
  },
  "language_info": {
   "codemirror_mode": {
    "name": "ipython",
    "version": 3
   },
   "file_extension": ".py",
   "mimetype": "text/x-python",
   "name": "python",
   "nbconvert_exporter": "python",
   "pygments_lexer": "ipython3",
   "version": "3.6.0"
  }
 },
 "nbformat": 4,
 "nbformat_minor": 2
}
