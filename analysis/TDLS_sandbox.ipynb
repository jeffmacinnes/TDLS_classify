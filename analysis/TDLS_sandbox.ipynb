{
 "cells": [
  {
   "cell_type": "code",
   "execution_count": 1,
   "metadata": {},
   "outputs": [
    {
     "name": "stdout",
     "output_type": "stream",
     "text": [
      "Populating the interactive namespace from numpy and matplotlib\n"
     ]
    }
   ],
   "source": [
    "from __future__ import division\n",
    "import os\n",
    "from os.path import join\n",
    "import numpy as np\n",
    "import pandas as pd\n",
    "\n",
    "%pylab inline"
   ]
  },
  {
   "cell_type": "code",
   "execution_count": 2,
   "metadata": {},
   "outputs": [],
   "source": [
    "# paths to subject dir\n",
    "subj = '13034'\n",
    "dataDir = '../data'"
   ]
  },
  {
   "cell_type": "markdown",
   "metadata": {},
   "source": [
    "# Classification \n",
    "Classification analyses on one subject. This notebook walks through the steps for prepping the data, and setting up a classification.\n",
    "\n",
    "This experiment was a single run task with 48 trials. On each trial, subjects were presented with a stimulus in the form of either a **Word** or a **Picture** (24 stims from each modality).\n",
    "\n",
    "Stimuli represented either **Dwellings** or **Tools** (equally balanced across modalities). \n",
    "\n",
    "There were 8 unique stimuli. \n",
    "\n",
    "** Stimuli Breakdown:**\n",
    "\n",
    "* 24 Words\n",
    "    * 12 Dwellings\n",
    "        * 4 stims (as words), repeated 3x each\n",
    "    * 12 Tools \n",
    "        * 4 stims (as words), repeated 3x each\n",
    "* 24 Pics\n",
    "    * 12 Dwellings\n",
    "        * 4 stims (as pics), repeated 3x each\n",
    "    * 12 Tools\n",
    "        * 4 stims (as pics), repeated 3x each\n",
    "\n",
    "\n",
    "The analyses will focus on classifying between different combinations of these stimuli representations (e.g. classifying between words and pics)"
   ]
  },
  {
   "cell_type": "markdown",
   "metadata": {},
   "source": [
    "# Preprocessing\n",
    "\n",
    "---\n",
    "## Prepare the attributes\n",
    "Prepare a set of volume labels that can be used to slice the dataset up for different analyses.  "
   ]
  },
  {
   "cell_type": "code",
   "execution_count": 3,
   "metadata": {
    "scrolled": true
   },
   "outputs": [
    {
     "data": {
      "text/html": [
       "<div>\n",
       "<style scoped>\n",
       "    .dataframe tbody tr th:only-of-type {\n",
       "        vertical-align: middle;\n",
       "    }\n",
       "\n",
       "    .dataframe tbody tr th {\n",
       "        vertical-align: top;\n",
       "    }\n",
       "\n",
       "    .dataframe thead th {\n",
       "        text-align: right;\n",
       "    }\n",
       "</style>\n",
       "<table border=\"1\" class=\"dataframe\">\n",
       "  <thead>\n",
       "    <tr style=\"text-align: right;\">\n",
       "      <th></th>\n",
       "      <th>TrialOnset</th>\n",
       "      <th>Modality</th>\n",
       "      <th>Category</th>\n",
       "      <th>Stimulus</th>\n",
       "    </tr>\n",
       "  </thead>\n",
       "  <tbody>\n",
       "    <tr>\n",
       "      <th>0</th>\n",
       "      <td>2000</td>\n",
       "      <td>Word</td>\n",
       "      <td>dwelling</td>\n",
       "      <td>castle</td>\n",
       "    </tr>\n",
       "    <tr>\n",
       "      <th>1</th>\n",
       "      <td>11995</td>\n",
       "      <td>Word</td>\n",
       "      <td>tool</td>\n",
       "      <td>saw</td>\n",
       "    </tr>\n",
       "    <tr>\n",
       "      <th>2</th>\n",
       "      <td>22007</td>\n",
       "      <td>Word</td>\n",
       "      <td>dwelling</td>\n",
       "      <td>house</td>\n",
       "    </tr>\n",
       "    <tr>\n",
       "      <th>3</th>\n",
       "      <td>32002</td>\n",
       "      <td>Word</td>\n",
       "      <td>dwelling</td>\n",
       "      <td>tent</td>\n",
       "    </tr>\n",
       "    <tr>\n",
       "      <th>4</th>\n",
       "      <td>41980</td>\n",
       "      <td>Word</td>\n",
       "      <td>tool</td>\n",
       "      <td>screwdriver</td>\n",
       "    </tr>\n",
       "  </tbody>\n",
       "</table>\n",
       "</div>"
      ],
      "text/plain": [
       "   TrialOnset Modality  Category     Stimulus\n",
       "0        2000     Word  dwelling       castle\n",
       "1       11995     Word      tool          saw\n",
       "2       22007     Word  dwelling        house\n",
       "3       32002     Word  dwelling         tent\n",
       "4       41980     Word      tool  screwdriver"
      ]
     },
     "execution_count": 3,
     "metadata": {},
     "output_type": "execute_result"
    }
   ],
   "source": [
    "# read trialOnsets file\n",
    "trialOnsets = pd.read_table(join(dataDir, subj, (subj + '_trialOnsets.txt')))\n",
    "trialOnsets.head()"
   ]
  },
  {
   "cell_type": "code",
   "execution_count": 4,
   "metadata": {},
   "outputs": [
    {
     "data": {
      "text/plain": [
       "(48, 3)"
      ]
     },
     "execution_count": 4,
     "metadata": {},
     "output_type": "execute_result"
    }
   ],
   "source": [
    "# drop the trial onset times, as we don't need that\n",
    "trials = trialOnsets.drop('TrialOnset', axis=1)\n",
    "trials.shape"
   ]
  },
  {
   "cell_type": "markdown",
   "metadata": {},
   "source": [
    "### Make additional columns for category by word/pic and stim by word/pic"
   ]
  },
  {
   "cell_type": "code",
   "execution_count": 5,
   "metadata": {},
   "outputs": [],
   "source": [
    "def catByWord(row):\n",
    "    if row['Modality'] == 'Word':\n",
    "        label = row['Category'] + 'Word'\n",
    "    else:\n",
    "        label = 'n'\n",
    "    return label\n",
    "\n",
    "def catByPic(row):\n",
    "    if row['Modality'] == 'Picture':\n",
    "        label = row['Category'] + 'Pic'\n",
    "    else:\n",
    "        label = 'n'\n",
    "    return label\n",
    "\n",
    "def stimByWord(row):\n",
    "    if row['Modality'] == 'Word':\n",
    "        label = row['Stimulus'] + 'Word'\n",
    "    else:\n",
    "        label = 'n'\n",
    "    return label\n",
    "\n",
    "def stimByPic(row):\n",
    "    if row['Modality'] == 'Picture':\n",
    "        label = row['Stimulus'] + 'Pic'\n",
    "    else:\n",
    "        label = 'n'\n",
    "    return label"
   ]
  },
  {
   "cell_type": "code",
   "execution_count": 6,
   "metadata": {},
   "outputs": [],
   "source": [
    "trials['categoryWords'] = trials.apply(catByWord, axis=1)\n",
    "trials['categoryPics'] = trials.apply(catByPic, axis=1)\n",
    "trials['stimulusWords'] = trials.apply(stimByWord, axis=1)\n",
    "trials['stimulusPics'] = trials.apply(stimByPic, axis=1)"
   ]
  },
  {
   "cell_type": "markdown",
   "metadata": {},
   "source": [
    "Here is the table that contains all of our sample labels"
   ]
  },
  {
   "cell_type": "code",
   "execution_count": 7,
   "metadata": {},
   "outputs": [
    {
     "data": {
      "text/html": [
       "<div>\n",
       "<style scoped>\n",
       "    .dataframe tbody tr th:only-of-type {\n",
       "        vertical-align: middle;\n",
       "    }\n",
       "\n",
       "    .dataframe tbody tr th {\n",
       "        vertical-align: top;\n",
       "    }\n",
       "\n",
       "    .dataframe thead th {\n",
       "        text-align: right;\n",
       "    }\n",
       "</style>\n",
       "<table border=\"1\" class=\"dataframe\">\n",
       "  <thead>\n",
       "    <tr style=\"text-align: right;\">\n",
       "      <th></th>\n",
       "      <th>Modality</th>\n",
       "      <th>Category</th>\n",
       "      <th>Stimulus</th>\n",
       "      <th>categoryWords</th>\n",
       "      <th>categoryPics</th>\n",
       "      <th>stimulusWords</th>\n",
       "      <th>stimulusPics</th>\n",
       "    </tr>\n",
       "  </thead>\n",
       "  <tbody>\n",
       "    <tr>\n",
       "      <th>0</th>\n",
       "      <td>Word</td>\n",
       "      <td>dwelling</td>\n",
       "      <td>castle</td>\n",
       "      <td>dwellingWord</td>\n",
       "      <td>n</td>\n",
       "      <td>castleWord</td>\n",
       "      <td>n</td>\n",
       "    </tr>\n",
       "    <tr>\n",
       "      <th>1</th>\n",
       "      <td>Word</td>\n",
       "      <td>tool</td>\n",
       "      <td>saw</td>\n",
       "      <td>toolWord</td>\n",
       "      <td>n</td>\n",
       "      <td>sawWord</td>\n",
       "      <td>n</td>\n",
       "    </tr>\n",
       "    <tr>\n",
       "      <th>2</th>\n",
       "      <td>Word</td>\n",
       "      <td>dwelling</td>\n",
       "      <td>house</td>\n",
       "      <td>dwellingWord</td>\n",
       "      <td>n</td>\n",
       "      <td>houseWord</td>\n",
       "      <td>n</td>\n",
       "    </tr>\n",
       "    <tr>\n",
       "      <th>3</th>\n",
       "      <td>Word</td>\n",
       "      <td>dwelling</td>\n",
       "      <td>tent</td>\n",
       "      <td>dwellingWord</td>\n",
       "      <td>n</td>\n",
       "      <td>tentWord</td>\n",
       "      <td>n</td>\n",
       "    </tr>\n",
       "    <tr>\n",
       "      <th>4</th>\n",
       "      <td>Word</td>\n",
       "      <td>tool</td>\n",
       "      <td>screwdriver</td>\n",
       "      <td>toolWord</td>\n",
       "      <td>n</td>\n",
       "      <td>screwdriverWord</td>\n",
       "      <td>n</td>\n",
       "    </tr>\n",
       "  </tbody>\n",
       "</table>\n",
       "</div>"
      ],
      "text/plain": [
       "  Modality  Category     Stimulus categoryWords categoryPics    stimulusWords  \\\n",
       "0     Word  dwelling       castle  dwellingWord            n       castleWord   \n",
       "1     Word      tool          saw      toolWord            n          sawWord   \n",
       "2     Word  dwelling        house  dwellingWord            n        houseWord   \n",
       "3     Word  dwelling         tent  dwellingWord            n         tentWord   \n",
       "4     Word      tool  screwdriver      toolWord            n  screwdriverWord   \n",
       "\n",
       "  stimulusPics  \n",
       "0            n  \n",
       "1            n  \n",
       "2            n  \n",
       "3            n  \n",
       "4            n  "
      ]
     },
     "execution_count": 7,
     "metadata": {},
     "output_type": "execute_result"
    }
   ],
   "source": [
    "trials.head()"
   ]
  },
  {
   "cell_type": "markdown",
   "metadata": {},
   "source": [
    "## Load the subject's brain data\n",
    "\n",
    "For this analysis, the functional data has been preprocessed with the following steps:\n",
    "\n",
    "* motion correction\n",
    "* non-brain removal with BET (along with func mask creation)\n",
    "* 4mm smoothing\n",
    "* highpass filtered (Gaussian least-squares straight-line fitting, sigma=40.0s)\n",
    "\n",
    "In addition, we ran first level GLMs to extract SPMs that represented single trial parameter estimates. For each trial, a model was fit with two regressors: 1) convolved regressor representing THAT trial, and 2) convolved regressor representing ALL OTHER trials. The unique parameter estimate map for each trial was extracted and merged across time to produce a 4D file. There are 48 'timepts' in this 4D file, each representing the whole brain parameter map for a single trial\n",
    "\n",
    "The 4D single-trial parameter maps will be used as the input dataset for our classification"
   ]
  },
  {
   "cell_type": "code",
   "execution_count": 8,
   "metadata": {},
   "outputs": [],
   "source": [
    "# import tools to read nifti data\n",
    "import nilearn as nl\n",
    "import nibabel as nib"
   ]
  },
  {
   "cell_type": "code",
   "execution_count": 9,
   "metadata": {},
   "outputs": [],
   "source": [
    "subj_dataDir = join(dataDir, subj)\n",
    "bold_file = join(subj_dataDir, 'singleTrialGLM/singleTrialPEs.nii.gz')\n",
    "mask_file = join(subj_dataDir, 'masks/TDSL2_brain_mask.nii.gz')"
   ]
  },
  {
   "cell_type": "code",
   "execution_count": 10,
   "metadata": {},
   "outputs": [],
   "source": [
    "# create a Nilearn Masker...this will convert the dataset to a 2D array\n",
    "# as well as standardize the voxel timeseries\n",
    "from nilearn.input_data import NiftiMasker"
   ]
  },
  {
   "cell_type": "code",
   "execution_count": 11,
   "metadata": {},
   "outputs": [
    {
     "data": {
      "text/plain": [
       "(48, 25182)"
      ]
     },
     "execution_count": 11,
     "metadata": {},
     "output_type": "execute_result"
    }
   ],
   "source": [
    "masker = NiftiMasker(mask_img=mask_file, standardize=True)\n",
    "fmri_masked = masker.fit_transform(bold_file)\n",
    "fmri_masked.shape"
   ]
  },
  {
   "cell_type": "markdown",
   "metadata": {},
   "source": [
    "# Start Classifying"
   ]
  },
  {
   "cell_type": "markdown",
   "metadata": {},
   "source": [
    "### Start simple - whole brain SVM on Words vs Pics\n",
    "See how well an SVM can discrimate between WORD trials and PIC trials using the entire brain volume as input"
   ]
  },
  {
   "cell_type": "code",
   "execution_count": 15,
   "metadata": {},
   "outputs": [
    {
     "name": "stderr",
     "output_type": "stream",
     "text": [
      "/usr/local/lib/python3.6/site-packages/sklearn/cross_validation.py:41: DeprecationWarning: This module was deprecated in version 0.18 in favor of the model_selection module into which all the refactored classes and functions are moved. Also note that the interface of the new CV iterators are different from that of this module. This module will be removed in 0.20.\n",
      "  \"This module will be removed in 0.20.\", DeprecationWarning)\n"
     ]
    }
   ],
   "source": [
    "# load decoder\n",
    "from sklearn.svm import SVC\n",
    "\n",
    "# import cross validation tool\n",
    "from sklearn.cross_validation import KFold"
   ]
  },
  {
   "cell_type": "code",
   "execution_count": 17,
   "metadata": {},
   "outputs": [
    {
     "name": "stdout",
     "output_type": "stream",
     "text": [
      "[10 11 12 13 14 15 16 17 18 19 20 21 22 23 24 25 26 27 28 29 30 31 32 33 34\n",
      " 35 36 37 38 39 40 41 42 43 44 45 46 47]\n",
      "[ 0  1  2  3  4  5  6  7  8  9 20 21 22 23 24 25 26 27 28 29 30 31 32 33 34\n",
      " 35 36 37 38 39 40 41 42 43 44 45 46 47]\n",
      "[ 0  1  2  3  4  5  6  7  8  9 10 11 12 13 14 15 16 17 18 19 30 31 32 33 34\n",
      " 35 36 37 38 39 40 41 42 43 44 45 46 47]\n",
      "[ 0  1  2  3  4  5  6  7  8  9 10 11 12 13 14 15 16 17 18 19 20 21 22 23 24\n",
      " 25 26 27 28 29 39 40 41 42 43 44 45 46 47]\n",
      "[ 0  1  2  3  4  5  6  7  8  9 10 11 12 13 14 15 16 17 18 19 20 21 22 23 24\n",
      " 25 26 27 28 29 30 31 32 33 34 35 36 37 38]\n"
     ]
    }
   ],
   "source": [
    "cv = KFold(n=len(fmri_masked), n_folds=5)\n",
    "\n",
    "for train, test in cv:\n",
    "    print(train)"
   ]
  },
  {
   "cell_type": "code",
   "execution_count": null,
   "metadata": {},
   "outputs": [],
   "source": []
  },
  {
   "cell_type": "code",
   "execution_count": 13,
   "metadata": {},
   "outputs": [],
   "source": [
    "# grab the labels you want to classify based on\n",
    "conditions = trials['Modality']\n"
   ]
  },
  {
   "cell_type": "code",
   "execution_count": 14,
   "metadata": {},
   "outputs": [
    {
     "data": {
      "text/plain": [
       "0        Word\n",
       "1        Word\n",
       "2        Word\n",
       "3        Word\n",
       "4        Word\n",
       "5        Word\n",
       "6        Word\n",
       "7        Word\n",
       "8        Word\n",
       "9        Word\n",
       "10       Word\n",
       "11       Word\n",
       "12       Word\n",
       "13       Word\n",
       "14       Word\n",
       "15       Word\n",
       "16       Word\n",
       "17       Word\n",
       "18       Word\n",
       "19       Word\n",
       "20       Word\n",
       "21       Word\n",
       "22       Word\n",
       "23       Word\n",
       "24    Picture\n",
       "25    Picture\n",
       "26    Picture\n",
       "27    Picture\n",
       "28    Picture\n",
       "29    Picture\n",
       "30    Picture\n",
       "31    Picture\n",
       "32    Picture\n",
       "33    Picture\n",
       "34    Picture\n",
       "35    Picture\n",
       "36    Picture\n",
       "37    Picture\n",
       "38    Picture\n",
       "39    Picture\n",
       "40    Picture\n",
       "41    Picture\n",
       "42    Picture\n",
       "43    Picture\n",
       "44    Picture\n",
       "45    Picture\n",
       "46    Picture\n",
       "47    Picture\n",
       "Name: Modality, dtype: object"
      ]
     },
     "execution_count": 14,
     "metadata": {},
     "output_type": "execute_result"
    }
   ],
   "source": [
    "conditions"
   ]
  }
 ],
 "metadata": {
  "kernelspec": {
   "display_name": "Python 3",
   "language": "python",
   "name": "python3"
  },
  "language_info": {
   "codemirror_mode": {
    "name": "ipython",
    "version": 3
   },
   "file_extension": ".py",
   "mimetype": "text/x-python",
   "name": "python",
   "nbconvert_exporter": "python",
   "pygments_lexer": "ipython3",
   "version": "3.6.2"
  }
 },
 "nbformat": 4,
 "nbformat_minor": 2
}
