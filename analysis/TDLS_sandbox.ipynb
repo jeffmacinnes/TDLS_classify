{
 "cells": [
  {
   "cell_type": "code",
   "execution_count": 2,
   "metadata": {},
   "outputs": [
    {
     "name": "stdout",
     "output_type": "stream",
     "text": [
      "Populating the interactive namespace from numpy and matplotlib\n"
     ]
    }
   ],
   "source": [
    "from __future__ import division\n",
    "import os\n",
    "from os.path import join\n",
    "import numpy as np\n",
    "import pandas as pd\n",
    "\n",
    "%pylab inline"
   ]
  },
  {
   "cell_type": "code",
   "execution_count": 3,
   "metadata": {},
   "outputs": [],
   "source": [
    "# paths to subject dir\n",
    "subj = '13034'\n",
    "dataDir = '../data'"
   ]
  },
  {
   "cell_type": "markdown",
   "metadata": {},
   "source": [
    "## Prepare the attributes\n",
    "Prepare a set of volume labels that can be used to slice the dataset up for different\n",
    "analyses with PyMVPA. There needs to be one label per volume, but there can be multiple different \n",
    "labels assigned to the same volume. "
   ]
  },
  {
   "cell_type": "code",
   "execution_count": 4,
   "metadata": {},
   "outputs": [
    {
     "data": {
      "text/html": [
       "<div>\n",
       "<style scoped>\n",
       "    .dataframe tbody tr th:only-of-type {\n",
       "        vertical-align: middle;\n",
       "    }\n",
       "\n",
       "    .dataframe tbody tr th {\n",
       "        vertical-align: top;\n",
       "    }\n",
       "\n",
       "    .dataframe thead th {\n",
       "        text-align: right;\n",
       "    }\n",
       "</style>\n",
       "<table border=\"1\" class=\"dataframe\">\n",
       "  <thead>\n",
       "    <tr style=\"text-align: right;\">\n",
       "      <th></th>\n",
       "      <th>TrialOnset</th>\n",
       "      <th>Modality</th>\n",
       "      <th>Category</th>\n",
       "      <th>Stimulus</th>\n",
       "    </tr>\n",
       "  </thead>\n",
       "  <tbody>\n",
       "    <tr>\n",
       "      <th>0</th>\n",
       "      <td>2000</td>\n",
       "      <td>Word</td>\n",
       "      <td>dwelling</td>\n",
       "      <td>castle</td>\n",
       "    </tr>\n",
       "    <tr>\n",
       "      <th>1</th>\n",
       "      <td>11995</td>\n",
       "      <td>Word</td>\n",
       "      <td>tool</td>\n",
       "      <td>saw</td>\n",
       "    </tr>\n",
       "    <tr>\n",
       "      <th>2</th>\n",
       "      <td>22007</td>\n",
       "      <td>Word</td>\n",
       "      <td>dwelling</td>\n",
       "      <td>house</td>\n",
       "    </tr>\n",
       "    <tr>\n",
       "      <th>3</th>\n",
       "      <td>32002</td>\n",
       "      <td>Word</td>\n",
       "      <td>dwelling</td>\n",
       "      <td>tent</td>\n",
       "    </tr>\n",
       "    <tr>\n",
       "      <th>4</th>\n",
       "      <td>41980</td>\n",
       "      <td>Word</td>\n",
       "      <td>tool</td>\n",
       "      <td>screwdriver</td>\n",
       "    </tr>\n",
       "  </tbody>\n",
       "</table>\n",
       "</div>"
      ],
      "text/plain": [
       "   TrialOnset Modality  Category     Stimulus\n",
       "0        2000     Word  dwelling       castle\n",
       "1       11995     Word      tool          saw\n",
       "2       22007     Word  dwelling        house\n",
       "3       32002     Word  dwelling         tent\n",
       "4       41980     Word      tool  screwdriver"
      ]
     },
     "execution_count": 4,
     "metadata": {},
     "output_type": "execute_result"
    }
   ],
   "source": [
    "# read trialOnsets file\n",
    "trialOnsets = pd.read_table(join(dataDir, subj, (subj + '_trialOnsets.txt')))\n",
    "trialOnsets.head()"
   ]
  },
  {
   "cell_type": "code",
   "execution_count": 26,
   "metadata": {},
   "outputs": [
    {
     "data": {
      "text/plain": [
       "0       2000\n",
       "1      11995\n",
       "2      22007\n",
       "3      32002\n",
       "4      41980\n",
       "5      51992\n",
       "6      61987\n",
       "7      71998\n",
       "8      81993\n",
       "9      91988\n",
       "10    102000\n",
       "11    111995\n",
       "12    121990\n",
       "13    132002\n",
       "14    141997\n",
       "15    151992\n",
       "16    161987\n",
       "17    171999\n",
       "18    181994\n",
       "19    192005\n",
       "20    202000\n",
       "21    211995\n",
       "22    221990\n",
       "23    232002\n",
       "24    262004\n",
       "25    271999\n",
       "26    282010\n",
       "27    292005\n",
       "28    302000\n",
       "29    311995\n",
       "30    322007\n",
       "31    332002\n",
       "32    342014\n",
       "33    352009\n",
       "34    362004\n",
       "35    371999\n",
       "36    382011\n",
       "37    392006\n",
       "38    401984\n",
       "39    412012\n",
       "40    422007\n",
       "41    432002\n",
       "42    441997\n",
       "43    452009\n",
       "44    462004\n",
       "45    471999\n",
       "46    482011\n",
       "47    492006\n",
       "Name: TrialOnset, dtype: int64"
      ]
     },
     "execution_count": 26,
     "metadata": {},
     "output_type": "execute_result"
    }
   ],
   "source": [
    "trialOnsets.TrialOnset"
   ]
  },
  {
   "cell_type": "code",
   "execution_count": 5,
   "metadata": {},
   "outputs": [],
   "source": [
    "# function to convert trial onsets into volume labels\n",
    "def makeAttributes(trialOnsets):\n",
    "    \"\"\"\n",
    "    Make an attributes table that labels every volume in the run according \n",
    "    to the different ways of sorting these stimuli (e.g. words vs pics, etc...)\n",
    "    \"\"\"\n",
    "    # number of timepts to label\n",
    "    nVols = 500\n",
    "    volsPerTrial = 3  # how long was each trial (in volumes)\n",
    "    \n",
    "    # create a list with dummy values for every volume\n",
    "    blankVolLabels = ['n'] * nVols\n",
    "    \n",
    "    ### make the copies for each category\n",
    "    modLabels = blankVolLabels[:]\n",
    "    catLabels = blankVolLabels[:]\n",
    "    stimLabels = blankVolLabels[:]\n",
    "    \n",
    "    # loop over each trial in trialOnsets\n",
    "    for i,row in trialOnsets.iterrows():\n",
    "        # convert onset time to nearest vol index\n",
    "        onset = int(np.round(row['TrialOnset']/1000))\n",
    "        \n",
    "        # update the labels, starting at onset, continuing through however many volsPerTrial\n",
    "        modLabels[onset:(onset+volsPerTrial)] = [row['Modality']] * volsPerTrial\n",
    "        catLabels[onset:(onset+volsPerTrial)] = [row['Category']] * volsPerTrial\n",
    "        stimLabels[onset:(onset+volsPerTrial)] = [row['Stimulus']] * volsPerTrial\n",
    "        \n",
    "    # convert to a dataframe\n",
    "    attributes_df = pd.DataFrame({'modality':modLabels, 'category':catLabels, 'stimulus':stimLabels})\n",
    "    return attributes_df\n"
   ]
  },
  {
   "cell_type": "code",
   "execution_count": 6,
   "metadata": {},
   "outputs": [],
   "source": [
    "# create the table of volume labels for this subject\n",
    "attributes = makeAttributes(trialOnsets)"
   ]
  },
  {
   "cell_type": "code",
   "execution_count": 7,
   "metadata": {},
   "outputs": [
    {
     "data": {
      "text/html": [
       "<div>\n",
       "<style scoped>\n",
       "    .dataframe tbody tr th:only-of-type {\n",
       "        vertical-align: middle;\n",
       "    }\n",
       "\n",
       "    .dataframe tbody tr th {\n",
       "        vertical-align: top;\n",
       "    }\n",
       "\n",
       "    .dataframe thead th {\n",
       "        text-align: right;\n",
       "    }\n",
       "</style>\n",
       "<table border=\"1\" class=\"dataframe\">\n",
       "  <thead>\n",
       "    <tr style=\"text-align: right;\">\n",
       "      <th></th>\n",
       "      <th>category</th>\n",
       "      <th>modality</th>\n",
       "      <th>stimulus</th>\n",
       "    </tr>\n",
       "  </thead>\n",
       "  <tbody>\n",
       "    <tr>\n",
       "      <th>0</th>\n",
       "      <td>n</td>\n",
       "      <td>n</td>\n",
       "      <td>n</td>\n",
       "    </tr>\n",
       "    <tr>\n",
       "      <th>1</th>\n",
       "      <td>n</td>\n",
       "      <td>n</td>\n",
       "      <td>n</td>\n",
       "    </tr>\n",
       "    <tr>\n",
       "      <th>2</th>\n",
       "      <td>dwelling</td>\n",
       "      <td>Word</td>\n",
       "      <td>castle</td>\n",
       "    </tr>\n",
       "    <tr>\n",
       "      <th>3</th>\n",
       "      <td>dwelling</td>\n",
       "      <td>Word</td>\n",
       "      <td>castle</td>\n",
       "    </tr>\n",
       "    <tr>\n",
       "      <th>4</th>\n",
       "      <td>dwelling</td>\n",
       "      <td>Word</td>\n",
       "      <td>castle</td>\n",
       "    </tr>\n",
       "  </tbody>\n",
       "</table>\n",
       "</div>"
      ],
      "text/plain": [
       "   category modality stimulus\n",
       "0         n        n        n\n",
       "1         n        n        n\n",
       "2  dwelling     Word   castle\n",
       "3  dwelling     Word   castle\n",
       "4  dwelling     Word   castle"
      ]
     },
     "execution_count": 7,
     "metadata": {},
     "output_type": "execute_result"
    }
   ],
   "source": [
    "attributes.head()"
   ]
  },
  {
   "cell_type": "code",
   "execution_count": 41,
   "metadata": {},
   "outputs": [],
   "source": [
    "a = np.array([14,22,32,42,53,61])"
   ]
  },
  {
   "cell_type": "code",
   "execution_count": 43,
   "metadata": {},
   "outputs": [
    {
     "name": "stdout",
     "output_type": "stream",
     "text": [
      "1\n",
      "2\n",
      "3\n",
      "4\n"
     ]
    }
   ],
   "source": [
    "for a in range(1,5):\n",
    "    print(a)"
   ]
  },
  {
   "cell_type": "markdown",
   "metadata": {},
   "source": [
    "### add attribute columns that seprate out category and stim labels by modality"
   ]
  },
  {
   "cell_type": "code",
   "execution_count": 8,
   "metadata": {},
   "outputs": [],
   "source": [
    "def catByWord(row):\n",
    "    if row['modality'] == 'Word':\n",
    "        label = row['category'] + 'Word'\n",
    "    else:\n",
    "        label = 'n'\n",
    "    return label\n",
    "\n",
    "def catByPic(row):\n",
    "    if row['modality'] == 'Picture':\n",
    "        label = row['category'] + 'Pic'\n",
    "    else:\n",
    "        label = 'n'\n",
    "    return label\n",
    "\n",
    "def stimByWord(row):\n",
    "    if row['modality'] == 'Word':\n",
    "        label = row['stimulus'] + 'Word'\n",
    "    else:\n",
    "        label = 'n'\n",
    "    return label\n",
    "\n",
    "def stimByPic(row):\n",
    "    if row['modality'] == 'Picture':\n",
    "        label = row['stimulus'] + 'Pic'\n",
    "    else:\n",
    "        label = 'n'\n",
    "    return label"
   ]
  },
  {
   "cell_type": "code",
   "execution_count": 9,
   "metadata": {},
   "outputs": [],
   "source": [
    "attributes['categoryWords'] = attributes.apply(catByWord, axis=1)\n",
    "attributes['categoryPics'] = attributes.apply(catByPic, axis=1)\n",
    "attributes['stimulusWords'] = attributes.apply(stimByWord, axis=1)\n",
    "attributes['stimulusPics'] = attributes.apply(stimByPic, axis=1)"
   ]
  },
  {
   "cell_type": "code",
   "execution_count": 10,
   "metadata": {},
   "outputs": [
    {
     "data": {
      "text/html": [
       "<div>\n",
       "<style scoped>\n",
       "    .dataframe tbody tr th:only-of-type {\n",
       "        vertical-align: middle;\n",
       "    }\n",
       "\n",
       "    .dataframe tbody tr th {\n",
       "        vertical-align: top;\n",
       "    }\n",
       "\n",
       "    .dataframe thead th {\n",
       "        text-align: right;\n",
       "    }\n",
       "</style>\n",
       "<table border=\"1\" class=\"dataframe\">\n",
       "  <thead>\n",
       "    <tr style=\"text-align: right;\">\n",
       "      <th></th>\n",
       "      <th>category</th>\n",
       "      <th>modality</th>\n",
       "      <th>stimulus</th>\n",
       "      <th>categoryWords</th>\n",
       "      <th>categoryPics</th>\n",
       "      <th>stimulusWords</th>\n",
       "      <th>stimulusPics</th>\n",
       "    </tr>\n",
       "  </thead>\n",
       "  <tbody>\n",
       "    <tr>\n",
       "      <th>0</th>\n",
       "      <td>n</td>\n",
       "      <td>n</td>\n",
       "      <td>n</td>\n",
       "      <td>n</td>\n",
       "      <td>n</td>\n",
       "      <td>n</td>\n",
       "      <td>n</td>\n",
       "    </tr>\n",
       "    <tr>\n",
       "      <th>1</th>\n",
       "      <td>n</td>\n",
       "      <td>n</td>\n",
       "      <td>n</td>\n",
       "      <td>n</td>\n",
       "      <td>n</td>\n",
       "      <td>n</td>\n",
       "      <td>n</td>\n",
       "    </tr>\n",
       "    <tr>\n",
       "      <th>2</th>\n",
       "      <td>dwelling</td>\n",
       "      <td>Word</td>\n",
       "      <td>castle</td>\n",
       "      <td>dwellingWord</td>\n",
       "      <td>n</td>\n",
       "      <td>castleWord</td>\n",
       "      <td>n</td>\n",
       "    </tr>\n",
       "    <tr>\n",
       "      <th>3</th>\n",
       "      <td>dwelling</td>\n",
       "      <td>Word</td>\n",
       "      <td>castle</td>\n",
       "      <td>dwellingWord</td>\n",
       "      <td>n</td>\n",
       "      <td>castleWord</td>\n",
       "      <td>n</td>\n",
       "    </tr>\n",
       "    <tr>\n",
       "      <th>4</th>\n",
       "      <td>dwelling</td>\n",
       "      <td>Word</td>\n",
       "      <td>castle</td>\n",
       "      <td>dwellingWord</td>\n",
       "      <td>n</td>\n",
       "      <td>castleWord</td>\n",
       "      <td>n</td>\n",
       "    </tr>\n",
       "  </tbody>\n",
       "</table>\n",
       "</div>"
      ],
      "text/plain": [
       "   category modality stimulus categoryWords categoryPics stimulusWords  \\\n",
       "0         n        n        n             n            n             n   \n",
       "1         n        n        n             n            n             n   \n",
       "2  dwelling     Word   castle  dwellingWord            n    castleWord   \n",
       "3  dwelling     Word   castle  dwellingWord            n    castleWord   \n",
       "4  dwelling     Word   castle  dwellingWord            n    castleWord   \n",
       "\n",
       "  stimulusPics  \n",
       "0            n  \n",
       "1            n  \n",
       "2            n  \n",
       "3            n  \n",
       "4            n  "
      ]
     },
     "execution_count": 10,
     "metadata": {},
     "output_type": "execute_result"
    }
   ],
   "source": [
    "attributes.head()"
   ]
  },
  {
   "cell_type": "code",
   "execution_count": 19,
   "metadata": {},
   "outputs": [
    {
     "data": {
      "text/plain": [
       "144"
      ]
     },
     "execution_count": 19,
     "metadata": {},
     "output_type": "execute_result"
    }
   ],
   "source": [
    "(attributes.modality != 'n').sum()"
   ]
  },
  {
   "cell_type": "code",
   "execution_count": 23,
   "metadata": {},
   "outputs": [],
   "source": [
    "a = np.zeros(shape=(attributes.shape[0],1))"
   ]
  },
  {
   "cell_type": "code",
   "execution_count": 24,
   "metadata": {},
   "outputs": [
    {
     "data": {
      "text/plain": [
       "[<matplotlib.lines.Line2D at 0x11844b048>]"
      ]
     },
     "execution_count": 24,
     "metadata": {},
     "output_type": "execute_result"
    },
    {
     "data": {
      "image/png": "[encoded data removed]",
      "text/plain": [
       "<matplotlib.figure.Figure at 0x10b3f1cf8>"
      ]
     },
     "metadata": {},
     "output_type": "display_data"
    }
   ],
   "source": [
    "a[attributes.modality != 'n'] = 1\n",
    "plt.plot(a)"
   ]
  },
  {
   "cell_type": "markdown",
   "metadata": {},
   "source": [
    "## Load the subject's functional data (along with whole brain mask)"
   ]
  },
  {
   "cell_type": "code",
   "execution_count": 11,
   "metadata": {},
   "outputs": [],
   "source": [
    "import nilearn as nl\n",
    "import nibabel as nib"
   ]
  },
  {
   "cell_type": "code",
   "execution_count": 17,
   "metadata": {},
   "outputs": [],
   "source": [
    "subj_dataDir = join(dataDir, subj)\n",
    "bold_file = join(subj_dataDir, 'preprocessing.feat', 'filtered_func_data.nii.gz')\n",
    "mask_file = join(subj_dataDir, 'masks/TDSL2_brain_mask.nii.gz')"
   ]
  },
  {
   "cell_type": "code",
   "execution_count": 13,
   "metadata": {},
   "outputs": [],
   "source": [
    "# create a Nilearn Masker...this will convert the dataset to a 2D array\n",
    "# as well as standardize the voxel timeseries\n",
    "from nilearn.input_data import NiftiMasker"
   ]
  },
  {
   "cell_type": "code",
   "execution_count": 18,
   "metadata": {},
   "outputs": [
    {
     "data": {
      "text/plain": [
       "(500, 25182)"
      ]
     },
     "execution_count": 18,
     "metadata": {},
     "output_type": "execute_result"
    }
   ],
   "source": [
    "masker = NiftiMasker(mask_img=mask_file, standardize=True)\n",
    "fmri_masked = masker.fit_transform(bold_file)\n",
    "fmri_masked.shape"
   ]
  }
 ],
 "metadata": {
  "kernelspec": {
   "display_name": "Python 3",
   "language": "python",
   "name": "python3"
  },
  "language_info": {
   "codemirror_mode": {
    "name": "ipython",
    "version": 3
   },
   "file_extension": ".py",
   "mimetype": "text/x-python",
   "name": "python",
   "nbconvert_exporter": "python",
   "pygments_lexer": "ipython3",
   "version": "3.6.2"
  }
 },
 "nbformat": 4,
 "nbformat_minor": 2
}
